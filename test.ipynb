{
 "cells": [
  {
   "cell_type": "code",
   "execution_count": 4,
   "id": "3a872986",
   "metadata": {},
   "outputs": [],
   "source": [
    "import my_package as mp"
   ]
  },
  {
   "cell_type": "code",
   "execution_count": null,
   "id": "af7bbd89",
   "metadata": {},
   "outputs": [
    {
     "data": {
      "text/plain": [
       "<function my_package.battery_passport.get_c_rate(df, rated_capacity=69.5, max_voltage=4.199)>"
      ]
     },
     "execution_count": 3,
     "metadata": {},
     "output_type": "execute_result"
    }
   ],
   "source": [
    "mp.smooth_and_compute_derivatives"
   ]
  }
 ],
 "metadata": {
  "kernelspec": {
   "display_name": "recirculate_env",
   "language": "python",
   "name": "python3"
  },
  "language_info": {
   "codemirror_mode": {
    "name": "ipython",
    "version": 3
   },
   "file_extension": ".py",
   "mimetype": "text/x-python",
   "name": "python",
   "nbconvert_exporter": "python",
   "pygments_lexer": "ipython3",
   "version": "3.12.7"
  }
 },
 "nbformat": 4,
 "nbformat_minor": 5
}
